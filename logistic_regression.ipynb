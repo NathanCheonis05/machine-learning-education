{
 "cells": [
  {
   "cell_type": "markdown",
   "metadata": {},
   "source": [
    "# Logistic Regression Classification\n",
    "\n",
    "Logistic regression is a statistical method used in machine learning for binary classification tasks. It models the probability that a given input belongs to a particular class by applying the logistic function to a linear combination of the input features. Unlike linear regression, which predicts continuous values, logistic regression outputs values between 0 and 1, representing the probability of the input belonging to the positive class. The model is trained using a dataset with known class labels, and the coefficients are optimized to minimize the error between the predicted probabilities and the actual labels. Logistic regression is widely used due to its simplicity, interpretability, and effectiveness in many practical applications.\n",
    "\n",
    "1. The linear combination of input features:\n",
    "$$\n",
    "z = \\beta_0 + \\beta_1 x_1 + \\beta_2 x_2 + \\ldots + \\beta_n x_n = \\mathbf{\\beta}^T \\mathbf{x}\n",
    "$$\n",
    "\n",
    "2. The logistic function (also known as the sigmoid function) applied to the linear combination:\n",
    "$$\n",
    "p = \\frac{1}{1 + e^{-z}} = \\frac{1}{1 + e^{-(\\beta_0 + \\beta_1 x_1 + \\beta_2 x_2 + \\ldots + \\beta_n x_n)}}\n",
    "$$\n",
    "\n",
    "3. The decision rule for classification (for binary classification with a threshold of 0.5):\n",
    "$$\n",
    "\\hat{y} =\n",
    "\\begin{cases}\n",
    "1 & \\text{if } p \\geq 0.5 \\\\\n",
    "0 & \\text{otherwise}\n",
    "\\end{cases}\n",
    "$$\n"
   ]
  }
 ],
 "metadata": {
  "language_info": {
   "name": "python"
  }
 },
 "nbformat": 4,
 "nbformat_minor": 2
}
