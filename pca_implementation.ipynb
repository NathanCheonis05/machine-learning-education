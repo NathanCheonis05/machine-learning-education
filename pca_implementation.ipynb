{
 "cells": [
  {
   "cell_type": "markdown",
   "metadata": {},
   "source": [
    "# PCA Implementation using Python and Scikit-Learn\n",
    "\n",
    "Today, I am learning about PCA and how it is used to reduce the amount of features in a data set and make my machine learning models run faster. \n",
    "\n",
    "I will be using the following libraries:\n",
    "\n",
    " - `pandas`\n",
    " - `sklearn`\n",
    " - `plotly.express`\n",
    " - `Numpy`\n",
    "\n",
    "\n",
    "### What is PCA\n",
    "\n",
    "Principal Component Analysis (PCA) is an unsupervised learning algorithm that compresses data from data sets with high dimensionality into a data set that has a lower dimensionality. This process is called dimensionality reduction and the compressed data set is called the principal component. \n",
    "\n",
    "### How can Dimensionality Reduction Be Used?\n",
    "\n",
    "Dimensionality reduction is able to speed up the process of training a machine learning model. For example, you want to train a neural network that you made in tensorflow and you have a data set that comprises of 1000 features and an almost endless number of rows containing data. The PCA algorithm can compress that down to 5 features or however many you would like it to. The initial PC will contain the core information while the last PC will contain the noise of the data set."
   ]
  },
  {
   "cell_type": "code",
   "execution_count": 1,
   "metadata": {},
   "outputs": [],
   "source": [
    "import pandas as pd\n",
    "import plotly.express as px\n",
    "from sklearn.decomposition import PCA\n",
    "from sklearn.preprocessing import StandardScaler\n",
    "from sklearn.model_selection import train_test_split\n",
    "from sklearn.datasets import load_iris"
   ]
  },
  {
   "cell_type": "code",
   "execution_count": 2,
   "metadata": {},
   "outputs": [
    {
     "name": "stdout",
     "output_type": "stream",
     "text": [
      "Features: ['sepal length (cm)', 'sepal width (cm)', 'petal length (cm)', 'petal width (cm)']\n",
      "Labels: ['setosa' 'versicolor' 'virginica']\n"
     ]
    }
   ],
   "source": [
    "# Loading the Iris Dataset\n",
    "iris = load_iris()\n",
    "iris_features = iris.feature_names\n",
    "iris_label = iris.target_names\n",
    "print(\"Features:\", iris_features)\n",
    "print(\"Labels:\", iris_label)"
   ]
  },
  {
   "cell_type": "code",
   "execution_count": 3,
   "metadata": {},
   "outputs": [],
   "source": [
    "# Assigning the features and labels to X and y\n",
    "X = iris.data\n",
    "y = iris.target"
   ]
  },
  {
   "cell_type": "code",
   "execution_count": 4,
   "metadata": {},
   "outputs": [
    {
     "name": "stdout",
     "output_type": "stream",
     "text": [
      "Shape of X: (150, 4)\n",
      "Shape of y: (150,)\n"
     ]
    }
   ],
   "source": [
    "# Exploring the Dimentionality of the Data\n",
    "print(\"Shape of X:\", X.shape)\n",
    "print(\"Shape of y:\", y.shape)"
   ]
  },
  {
   "cell_type": "code",
   "execution_count": 5,
   "metadata": {},
   "outputs": [],
   "source": [
    "# Performing the PCA\n",
    "scaler = StandardScaler()\n",
    "X_scaled = scaler.fit_transform(X)\n",
    "pca = PCA(n_components=3)\n",
    "pca.fit(X_scaled)\n",
    "Scores = pca.transform(X_scaled)"
   ]
  },
  {
   "cell_type": "code",
   "execution_count": 6,
   "metadata": {},
   "outputs": [
    {
     "data": {
      "application/vnd.microsoft.datawrangler.viewer.v0+json": {
       "columns": [
        {
         "name": "index",
         "rawType": "int64",
         "type": "integer"
        },
        {
         "name": "PC1",
         "rawType": "float64",
         "type": "float"
        },
        {
         "name": "PC2",
         "rawType": "float64",
         "type": "float"
        },
        {
         "name": "PC3",
         "rawType": "float64",
         "type": "float"
        }
       ],
       "conversionMethod": "pd.DataFrame",
       "ref": "a90da2cf-fa61-44aa-85ce-86834d09d64b",
       "rows": [
        [
         "0",
         "-2.2647028088075865",
         "0.4800265965209897",
         "0.12770602230015257"
        ],
        [
         "1",
         "-2.080961151965766",
         "-0.6741335566053523",
         "0.23460885398456807"
        ],
        [
         "2",
         "-2.364229053890299",
         "-0.3419080238846756",
         "-0.04420148483874368"
        ],
        [
         "3",
         "-2.2993842170427063",
         "-0.597394507674675",
         "-0.09129010632068228"
        ],
        [
         "4",
         "-2.389842166313843",
         "0.6468353829020274",
         "-0.015738195676258483"
        ]
       ],
       "shape": {
        "columns": 3,
        "rows": 5
       }
      },
      "text/html": [
       "<div>\n",
       "<style scoped>\n",
       "    .dataframe tbody tr th:only-of-type {\n",
       "        vertical-align: middle;\n",
       "    }\n",
       "\n",
       "    .dataframe tbody tr th {\n",
       "        vertical-align: top;\n",
       "    }\n",
       "\n",
       "    .dataframe thead th {\n",
       "        text-align: right;\n",
       "    }\n",
       "</style>\n",
       "<table border=\"1\" class=\"dataframe\">\n",
       "  <thead>\n",
       "    <tr style=\"text-align: right;\">\n",
       "      <th></th>\n",
       "      <th>PC1</th>\n",
       "      <th>PC2</th>\n",
       "      <th>PC3</th>\n",
       "    </tr>\n",
       "  </thead>\n",
       "  <tbody>\n",
       "    <tr>\n",
       "      <th>0</th>\n",
       "      <td>-2.264703</td>\n",
       "      <td>0.480027</td>\n",
       "      <td>0.127706</td>\n",
       "    </tr>\n",
       "    <tr>\n",
       "      <th>1</th>\n",
       "      <td>-2.080961</td>\n",
       "      <td>-0.674134</td>\n",
       "      <td>0.234609</td>\n",
       "    </tr>\n",
       "    <tr>\n",
       "      <th>2</th>\n",
       "      <td>-2.364229</td>\n",
       "      <td>-0.341908</td>\n",
       "      <td>-0.044201</td>\n",
       "    </tr>\n",
       "    <tr>\n",
       "      <th>3</th>\n",
       "      <td>-2.299384</td>\n",
       "      <td>-0.597395</td>\n",
       "      <td>-0.091290</td>\n",
       "    </tr>\n",
       "    <tr>\n",
       "      <th>4</th>\n",
       "      <td>-2.389842</td>\n",
       "      <td>0.646835</td>\n",
       "      <td>-0.015738</td>\n",
       "    </tr>\n",
       "  </tbody>\n",
       "</table>\n",
       "</div>"
      ],
      "text/plain": [
       "        PC1       PC2       PC3\n",
       "0 -2.264703  0.480027  0.127706\n",
       "1 -2.080961 -0.674134  0.234609\n",
       "2 -2.364229 -0.341908 -0.044201\n",
       "3 -2.299384 -0.597395 -0.091290\n",
       "4 -2.389842  0.646835 -0.015738"
      ]
     },
     "execution_count": 6,
     "metadata": {},
     "output_type": "execute_result"
    }
   ],
   "source": [
    "# Making a DataFrame of the scores of the PCA\n",
    "df = pd.DataFrame(Scores, columns = ['PC1', 'PC2', 'PC3'])\n",
    "df.head()"
   ]
  },
  {
   "cell_type": "code",
   "execution_count": 7,
   "metadata": {},
   "outputs": [
    {
     "data": {
      "application/vnd.microsoft.datawrangler.viewer.v0+json": {
       "columns": [
        {
         "name": "index",
         "rawType": "int64",
         "type": "integer"
        },
        {
         "name": "PC1",
         "rawType": "float64",
         "type": "float"
        },
        {
         "name": "PC2",
         "rawType": "float64",
         "type": "float"
        },
        {
         "name": "PC3",
         "rawType": "float64",
         "type": "float"
        },
        {
         "name": "Species",
         "rawType": "object",
         "type": "string"
        }
       ],
       "conversionMethod": "pd.DataFrame",
       "ref": "0a513a1b-2a40-4e5c-9127-f20386386c4f",
       "rows": [
        [
         "0",
         "-2.2647028088075865",
         "0.4800265965209897",
         "0.12770602230015257",
         "Setosa"
        ],
        [
         "1",
         "-2.080961151965766",
         "-0.6741335566053523",
         "0.23460885398456807",
         "Setosa"
        ],
        [
         "2",
         "-2.364229053890299",
         "-0.3419080238846756",
         "-0.04420148483874368",
         "Setosa"
        ],
        [
         "3",
         "-2.2993842170427063",
         "-0.597394507674675",
         "-0.09129010632068228",
         "Setosa"
        ],
        [
         "4",
         "-2.389842166313843",
         "0.6468353829020274",
         "-0.015738195676258483",
         "Setosa"
        ]
       ],
       "shape": {
        "columns": 4,
        "rows": 5
       }
      },
      "text/html": [
       "<div>\n",
       "<style scoped>\n",
       "    .dataframe tbody tr th:only-of-type {\n",
       "        vertical-align: middle;\n",
       "    }\n",
       "\n",
       "    .dataframe tbody tr th {\n",
       "        vertical-align: top;\n",
       "    }\n",
       "\n",
       "    .dataframe thead th {\n",
       "        text-align: right;\n",
       "    }\n",
       "</style>\n",
       "<table border=\"1\" class=\"dataframe\">\n",
       "  <thead>\n",
       "    <tr style=\"text-align: right;\">\n",
       "      <th></th>\n",
       "      <th>PC1</th>\n",
       "      <th>PC2</th>\n",
       "      <th>PC3</th>\n",
       "      <th>Species</th>\n",
       "    </tr>\n",
       "  </thead>\n",
       "  <tbody>\n",
       "    <tr>\n",
       "      <th>0</th>\n",
       "      <td>-2.264703</td>\n",
       "      <td>0.480027</td>\n",
       "      <td>0.127706</td>\n",
       "      <td>Setosa</td>\n",
       "    </tr>\n",
       "    <tr>\n",
       "      <th>1</th>\n",
       "      <td>-2.080961</td>\n",
       "      <td>-0.674134</td>\n",
       "      <td>0.234609</td>\n",
       "      <td>Setosa</td>\n",
       "    </tr>\n",
       "    <tr>\n",
       "      <th>2</th>\n",
       "      <td>-2.364229</td>\n",
       "      <td>-0.341908</td>\n",
       "      <td>-0.044201</td>\n",
       "      <td>Setosa</td>\n",
       "    </tr>\n",
       "    <tr>\n",
       "      <th>3</th>\n",
       "      <td>-2.299384</td>\n",
       "      <td>-0.597395</td>\n",
       "      <td>-0.091290</td>\n",
       "      <td>Setosa</td>\n",
       "    </tr>\n",
       "    <tr>\n",
       "      <th>4</th>\n",
       "      <td>-2.389842</td>\n",
       "      <td>0.646835</td>\n",
       "      <td>-0.015738</td>\n",
       "      <td>Setosa</td>\n",
       "    </tr>\n",
       "  </tbody>\n",
       "</table>\n",
       "</div>"
      ],
      "text/plain": [
       "        PC1       PC2       PC3 Species\n",
       "0 -2.264703  0.480027  0.127706  Setosa\n",
       "1 -2.080961 -0.674134  0.234609  Setosa\n",
       "2 -2.364229 -0.341908 -0.044201  Setosa\n",
       "3 -2.299384 -0.597395 -0.091290  Setosa\n",
       "4 -2.389842  0.646835 -0.015738  Setosa"
      ]
     },
     "execution_count": 7,
     "metadata": {},
     "output_type": "execute_result"
    }
   ],
   "source": [
    "# Adding the Target Column to the DataFrame\n",
    "y_label = []\n",
    "for i in y:\n",
    "    if i == 0:\n",
    "        y_label.append('Setosa')\n",
    "    elif i == 1:\n",
    "        y_label.append('Versicolor')\n",
    "    else:\n",
    "        y_label.append('Virginica')\n",
    "species = pd.DataFrame(y_label, columns=['Species'])\n",
    "df = pd.concat([df, species], axis=1)\n",
    "df.head()"
   ]
  },
  {
   "cell_type": "markdown",
   "metadata": {},
   "source": [
    "### PCA Complete!!!"
   ]
  }
 ],
 "metadata": {
  "kernelspec": {
   "display_name": "Python 3",
   "language": "python",
   "name": "python3"
  },
  "language_info": {
   "codemirror_mode": {
    "name": "ipython",
    "version": 3
   },
   "file_extension": ".py",
   "mimetype": "text/x-python",
   "name": "python",
   "nbconvert_exporter": "python",
   "pygments_lexer": "ipython3",
   "version": "3.12.2"
  }
 },
 "nbformat": 4,
 "nbformat_minor": 2
}
