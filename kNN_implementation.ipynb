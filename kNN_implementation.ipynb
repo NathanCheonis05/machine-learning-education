{
 "cells": [
  {
   "cell_type": "markdown",
   "metadata": {},
   "source": [
    "# kNN Implementation and Practice\n",
    "\n",
    "This is for me to practice my implementation of the k-Nearest-Neighbors algorithm. I will be using a preloaded dataset from the `scikit-learn` library. I will be doing EDA in `pandas` and I will be visualizing the data with `plotly.express`."
   ]
  },
  {
   "cell_type": "code",
   "execution_count": null,
   "metadata": {},
   "outputs": [],
   "source": [
    "# importing the libraries\n",
    "\n",
    "import pandas as pd\n",
    "import plotly.express as px\n",
    "from sklearn.neighbors import KNeighborsClassifier\n",
    "from sklearn.model_selection import train_test_split\n",
    "from sklearn.metrics import classification_report\n",
    "from sklearn.datasets import load_iris"
   ]
  }
 ],
 "metadata": {
  "language_info": {
   "name": "python"
  }
 },
 "nbformat": 4,
 "nbformat_minor": 2
}
