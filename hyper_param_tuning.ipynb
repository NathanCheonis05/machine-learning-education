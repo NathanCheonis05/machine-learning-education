{
 "cells": [
  {
   "cell_type": "markdown",
   "metadata": {},
   "source": [
    "# Hyper Parameter Tuning Tutorial\n",
    "\n",
    "Hyper parameter tuning tests to see which value for a parameter would be the best for that model. Using `sklearn.model_selection` there is `GridSearchCV` and `RandomizedSearchCV`"
   ]
  },
  {
   "cell_type": "code",
   "execution_count": null,
   "metadata": {},
   "outputs": [],
   "source": []
  }
 ],
 "metadata": {
  "language_info": {
   "name": "python"
  }
 },
 "nbformat": 4,
 "nbformat_minor": 2
}
