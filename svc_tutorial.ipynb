{
 "cells": [
  {
   "cell_type": "markdown",
   "metadata": {},
   "source": [
    "# Support Vector Classifiers\n",
    "\n",
    "SVM classifiers, short for Support Vector Machine classifiers, are a powerful tool in machine learning used for classifying data. They work by finding a hyperplane, essentially a dividing line in lower dimensions or a plane in higher dimensions, that best separates different classes of data points. The key idea is to maximize the margin between this decision boundary and the closest data points from each class, called support vectors. This approach allows SVMs to effectively handle complex data and even perform well in situations where there are more dimensions than data points, making them a versatile and well-regarded classification technique.\n",
    "\n",
    "$$\n",
    "\\begin{array}{ll}\n",
    "\\text{maximize:} & \\quad ||\\mathbf{w}||^2 \\ \\\n",
    "\\text{subject to:} & \\quad y_i(\\mathbf{w} \\cdot \\mathbf{x}_i + b) \\geq 1, \\forall i\n",
    "\\end{array}\n",
    "$$"
   ]
  }
 ],
 "metadata": {
  "language_info": {
   "name": "python"
  }
 },
 "nbformat": 4,
 "nbformat_minor": 2
}
