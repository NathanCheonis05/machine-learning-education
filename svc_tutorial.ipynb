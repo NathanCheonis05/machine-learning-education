{
 "cells": [
  {
   "cell_type": "markdown",
   "metadata": {},
   "source": [
    "# Support Vector Classifiers\n",
    "\n",
    "SVM classifiers, short for Support Vector Machine classifiers, are a powerful tool in machine learning used for classifying data. They work by finding a hyperplane, essentially a dividing line in lower dimensions or a plane in higher dimensions, that best separates different classes of data points. The key idea is to maximize the margin between this decision boundary and the closest data points from each class, called support vectors. This approach allows SVMs to effectively handle complex data and even perform well in situations where there are more dimensions than data points, making them a versatile and well-regarded classification technique.\n",
    "\n",
    "$$\n",
    "\\begin{array}{ll}\n",
    "\\text{maximize:} & \\quad ||\\mathbf{w}||^2 \\ \\\n",
    "\\text{subject to:} & \\quad y_i(\\mathbf{w} \\cdot \\mathbf{x}_i + b) \\geq 1, \\forall i\n",
    "\\end{array}\n",
    "$$"
   ]
  },
  {
   "cell_type": "code",
   "execution_count": 1,
   "metadata": {},
   "outputs": [],
   "source": [
    "# importing libraries\n",
    "\n",
    "import pandas as pd\n",
    "import numpy as np\n",
    "import plotly.express as px\n",
    "from sklearn.metrics import confusion_matrix, classification_report\n",
    "from sklearn.model_selection import train_test_split\n",
    "from sklearn.svm import SVC"
   ]
  },
  {
   "cell_type": "code",
   "execution_count": 2,
   "metadata": {},
   "outputs": [],
   "source": [
    "# Creating Data with Random Numbers\n",
    "\n",
    "mean1 = 55\n",
    "std_dev1 = 10\n",
    "num_samples = 500\n",
    "\n",
    "column1_numbers = np.random.normal(mean1, std_dev1, num_samples)\n",
    "column1_numbers = np.clip(column1_numbers, 12, 26)\n",
    "column1_numbers = np.round(column1_numbers).astype(int)\n",
    "\n",
    "mean2 = 18\n",
    "std_dev2 = 3\n",
    "\n",
    "column2_numbers = np.random.normal(mean2, std_dev2, num_samples)\n",
    "column2_numbers = np.clip(column2_numbers, 12, 26)\n",
    "column2_numbers = np.round(column2_numbers).astype(int)\n",
    "\n",
    "column3_numbers = np.random.randint(2, size = num_samples)\n",
    "column3_numbers[column1_numbers > mean1] = 1\n",
    "\n",
    "data = {\n",
    "    'Miles_Per_week': column1_numbers,\n",
    "    'Farthest_run': column2_numbers,\n",
    "    'Qualified_Boston_Marathon': column3_numbers\n",
    "}\n",
    "\n",
    "df = pd.DataFrame(data)"
   ]
  },
  {
   "cell_type": "code",
   "execution_count": 3,
   "metadata": {},
   "outputs": [
    {
     "data": {
      "text/html": [
       "<div>\n",
       "<style scoped>\n",
       "    .dataframe tbody tr th:only-of-type {\n",
       "        vertical-align: middle;\n",
       "    }\n",
       "\n",
       "    .dataframe tbody tr th {\n",
       "        vertical-align: top;\n",
       "    }\n",
       "\n",
       "    .dataframe thead th {\n",
       "        text-align: right;\n",
       "    }\n",
       "</style>\n",
       "<table border=\"1\" class=\"dataframe\">\n",
       "  <thead>\n",
       "    <tr style=\"text-align: right;\">\n",
       "      <th></th>\n",
       "      <th>Miles_Per_week</th>\n",
       "      <th>Farthest_run</th>\n",
       "      <th>Qualified_Boston_Marathon</th>\n",
       "    </tr>\n",
       "  </thead>\n",
       "  <tbody>\n",
       "    <tr>\n",
       "      <th>0</th>\n",
       "      <td>26</td>\n",
       "      <td>12</td>\n",
       "      <td>0</td>\n",
       "    </tr>\n",
       "    <tr>\n",
       "      <th>1</th>\n",
       "      <td>26</td>\n",
       "      <td>12</td>\n",
       "      <td>1</td>\n",
       "    </tr>\n",
       "    <tr>\n",
       "      <th>2</th>\n",
       "      <td>26</td>\n",
       "      <td>16</td>\n",
       "      <td>0</td>\n",
       "    </tr>\n",
       "    <tr>\n",
       "      <th>3</th>\n",
       "      <td>26</td>\n",
       "      <td>19</td>\n",
       "      <td>0</td>\n",
       "    </tr>\n",
       "    <tr>\n",
       "      <th>4</th>\n",
       "      <td>26</td>\n",
       "      <td>19</td>\n",
       "      <td>1</td>\n",
       "    </tr>\n",
       "  </tbody>\n",
       "</table>\n",
       "</div>"
      ],
      "text/plain": [
       "   Miles_Per_week  Farthest_run  Qualified_Boston_Marathon\n",
       "0              26            12                          0\n",
       "1              26            12                          1\n",
       "2              26            16                          0\n",
       "3              26            19                          0\n",
       "4              26            19                          1"
      ]
     },
     "execution_count": 3,
     "metadata": {},
     "output_type": "execute_result"
    }
   ],
   "source": [
    "df.head()"
   ]
  }
 ],
 "metadata": {
  "kernelspec": {
   "display_name": "Python 3",
   "language": "python",
   "name": "python3"
  },
  "language_info": {
   "codemirror_mode": {
    "name": "ipython",
    "version": 3
   },
   "file_extension": ".py",
   "mimetype": "text/x-python",
   "name": "python",
   "nbconvert_exporter": "python",
   "pygments_lexer": "ipython3",
   "version": "3.12.2"
  }
 },
 "nbformat": 4,
 "nbformat_minor": 2
}
