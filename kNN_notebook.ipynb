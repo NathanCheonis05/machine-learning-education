{
 "cells": [
  {
   "cell_type": "markdown",
   "metadata": {},
   "source": [
    "# kNN Tutorial\n",
    "\n",
    "I am following a tutorial in order to educate myself on how to use the k-Nearest-Neighbors algorithm in `skikit-learn` I will also be working with the `pandas` library as well as `plotly.express` for vizualizations. I will be looking at data that comes from the file `500hits.csv` which is about baseball players that are play with teams that are involved with the MLB. We will be dropping the following players or categories from the data before we begin:\n",
    "\n",
    " - Players that retired within the last 5 years because they do not qualify for the Hall of Fame.\n",
    " - Players that have used steroids.\n",
    " - Pete Rose because he is banned from baseball for betting on games including the Cincinatti Reds in 1989 which he was a manager of.\n",
    "\n",
    " **Let the fun Begin!**"
   ]
  },
  {
   "cell_type": "code",
   "execution_count": 4,
   "metadata": {},
   "outputs": [],
   "source": [
    "import pandas as pd\n",
    "import plotly.express as px\n",
    "from sklearn.neighbors import KNeighborsClassifier\n",
    "from sklearn.model_selection import train_test_split\n",
    "from sklearn.preprocessing import MinMaxScaler \n",
    "from sklearn.metrics import confusion_matrix, classification_report\n",
    "# the MinMaxScaler scales features to a specified range (default: 0 to 1)"
   ]
  },
  {
   "cell_type": "code",
   "execution_count": null,
   "metadata": {},
   "outputs": [],
   "source": []
  }
 ],
 "metadata": {
  "kernelspec": {
   "display_name": "Python 3",
   "language": "python",
   "name": "python3"
  },
  "language_info": {
   "codemirror_mode": {
    "name": "ipython",
    "version": 3
   },
   "file_extension": ".py",
   "mimetype": "text/x-python",
   "name": "python",
   "nbconvert_exporter": "python",
   "pygments_lexer": "ipython3",
   "version": "3.12.2"
  }
 },
 "nbformat": 4,
 "nbformat_minor": 2
}
