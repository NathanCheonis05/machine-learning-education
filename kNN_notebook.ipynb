{
 "cells": [
  {
   "cell_type": "markdown",
   "metadata": {},
   "source": [
    "# kNN Tutorial\n",
    "\n",
    "I am following a tutorial in order to educate myself on how to use the k-Nearest-Neighbors algorithm in `skikit-learn` I will also be working with the `pandas` library as well as `plotly.express` for vizualizations. I will be looking at data that comes from the file `500hits.csv` which is about baseball players that are play with teams that are involved with the MLB. We will be dropping the following players or categories from the data before we begin:\n",
    "\n",
    " - Players that retired within the last 5 years because they do not qualify for the Hall of Fame.\n",
    " - Players that have used steroids.\n",
    " - Pete Rose because he is banned from baseball for betting on games including the Cincinatti Reds in 1989 which he was a manager of.\n",
    "\n",
    " **Let the fun Begin!**"
   ]
  },
  {
   "cell_type": "code",
   "execution_count": null,
   "metadata": {},
   "outputs": [],
   "source": []
  }
 ],
 "metadata": {
  "language_info": {
   "name": "python"
  }
 },
 "nbformat": 4,
 "nbformat_minor": 2
}
