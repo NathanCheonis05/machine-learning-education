{
 "cells": [
  {
   "cell_type": "markdown",
   "metadata": {},
   "source": [
    "# Naive Bayes Classifer \n",
    "\n",
    "I am making a naive bayes classifier with the `scikit-learn` library and I will be using the `pandas` and `plotly` libraries. Naive Bayes uses Byaes Theorem which is as follows:\n",
    "\n",
    "$$\n",
    "P(A|B) = \\frac{P(B|A) \\cdot P(A)}{P(B)}\n",
    "$$\n",
    "\n",
    "Bayes Theorem calculates the probability of a class given a set of features, assuming that the features are independent. Despite this \"naive\" assumption of feature independence, it performs in many practical applications, especially high-dimensional data. The algorithm computes the posterior probability of each class and assigns the class label with the highest posterior probability. It is also important to mention that the Naive Bayes Algorithm that all dependent variables are independent which is again the \"naive\" assumption that it makes. It is commonly used in text classification, such as spam detection and sentiment analysis. Naive Bayes is efficent, easy to implement and works well with small datasets.\n",
    "\n",
    "I will be looking at a dataset from `kaggle.com` having to do with prediciting if someone has diabetes or not.\n",
    "\n",
    "# **:)**"
   ]
  }
 ],
 "metadata": {
  "language_info": {
   "name": "python"
  }
 },
 "nbformat": 4,
 "nbformat_minor": 2
}
