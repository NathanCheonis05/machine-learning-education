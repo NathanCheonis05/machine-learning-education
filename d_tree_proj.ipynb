{
 "cells": [
  {
   "cell_type": "markdown",
   "metadata": {},
   "source": [
    "# Decison Tree Project\n",
    "\n",
    "I will be working with the `500hits.csv` file again but this time with the decision tree algorithm. Decision trees are flowchart-like structes that begin with the data at the top node and then split the data based on the lowest Gini Impurity calculation into the internal nodes and then the leaf nodes where the decison is made. I will be using Gini Impurity which is as follows.\n",
    "\n",
    "$$\n",
    "Gini = 1 - \\sum_{i=1}^{n} p_i^2\n",
    "$$\n",
    "\n",
    "I will be working with `sklearn` and `pandas`. I might use `plotly.express` as well but I don't know yet."
   ]
  },
  {
   "cell_type": "code",
   "execution_count": 2,
   "metadata": {},
   "outputs": [],
   "source": [
    "import pandas as pd\n",
    "import plotly.express as px\n",
    "from sklearn.preprocessing import MinMaxScaler\n",
    "from sklearn.metrics import confusion_matrix, classification_report\n",
    "from sklearn.tree import DecisionTreeClassifier\n",
    "from sklearn.model_selection import train_test_split"
   ]
  },
  {
   "cell_type": "code",
   "execution_count": 4,
   "metadata": {},
   "outputs": [],
   "source": [
    "df = pd.read_csv('500hits.csv', encoding = 'latin-1')"
   ]
  }
 ],
 "metadata": {
  "kernelspec": {
   "display_name": "Python 3",
   "language": "python",
   "name": "python3"
  },
  "language_info": {
   "codemirror_mode": {
    "name": "ipython",
    "version": 3
   },
   "file_extension": ".py",
   "mimetype": "text/x-python",
   "name": "python",
   "nbconvert_exporter": "python",
   "pygments_lexer": "ipython3",
   "version": "3.12.2"
  }
 },
 "nbformat": 4,
 "nbformat_minor": 2
}
